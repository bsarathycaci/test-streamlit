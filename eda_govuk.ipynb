{
 "cells": [
  {
   "cell_type": "code",
   "execution_count": 27,
   "metadata": {},
   "outputs": [],
   "source": [
    "from pyproj import Transformer\n",
    "import pandas as pd\n",
    "import numpy as np\n",
    "import utm"
   ]
  },
  {
   "cell_type": "markdown",
   "metadata": {},
   "source": [
    "# Potholes Analysis"
   ]
  },
  {
   "cell_type": "markdown",
   "metadata": {},
   "source": [
    "### Load & Check"
   ]
  },
  {
   "cell_type": "code",
   "execution_count": 39,
   "metadata": {},
   "outputs": [
    {
     "data": {
      "text/html": [
       "<div>\n",
       "<style scoped>\n",
       "    .dataframe tbody tr th:only-of-type {\n",
       "        vertical-align: middle;\n",
       "    }\n",
       "\n",
       "    .dataframe tbody tr th {\n",
       "        vertical-align: top;\n",
       "    }\n",
       "\n",
       "    .dataframe thead th {\n",
       "        text-align: right;\n",
       "    }\n",
       "</style>\n",
       "<table border=\"1\" class=\"dataframe\">\n",
       "  <thead>\n",
       "    <tr style=\"text-align: right;\">\n",
       "      <th></th>\n",
       "      <th>ENQUIRY_TYPE</th>\n",
       "      <th>ENQUIRY_CATEGORY</th>\n",
       "      <th>DATE_RECORDED</th>\n",
       "      <th>DIVISION</th>\n",
       "      <th>CLIENT_OFFICE_NAME</th>\n",
       "      <th>EASTING</th>\n",
       "      <th>NORTHING</th>\n",
       "      <th>APPROVAL_STATUS_NAME</th>\n",
       "      <th>SECTION_NAME</th>\n",
       "    </tr>\n",
       "  </thead>\n",
       "  <tbody>\n",
       "    <tr>\n",
       "      <th>0</th>\n",
       "      <td>Pothole</td>\n",
       "      <td>Public Enquiry</td>\n",
       "      <td>08/07/2024 14:52:00</td>\n",
       "      <td>NORTHERN DIVISION</td>\n",
       "      <td>ANTRIM and NEWTOWNABBEY</td>\n",
       "      <td>299693.580378</td>\n",
       "      <td>393419.216217</td>\n",
       "      <td>Standard - Completed Enquiries</td>\n",
       "      <td>DOONE RD1</td>\n",
       "    </tr>\n",
       "    <tr>\n",
       "      <th>1</th>\n",
       "      <td>Pothole</td>\n",
       "      <td>Public Enquiry</td>\n",
       "      <td>21/06/2024 12:02:00</td>\n",
       "      <td>NORTHERN DIVISION</td>\n",
       "      <td>ANTRIM and NEWTOWNABBEY</td>\n",
       "      <td>299593.368350</td>\n",
       "      <td>391364.492782</td>\n",
       "      <td>Standard - Completed Enquiries</td>\n",
       "      <td>BRECART RD1</td>\n",
       "    </tr>\n",
       "  </tbody>\n",
       "</table>\n",
       "</div>"
      ],
      "text/plain": [
       "  ENQUIRY_TYPE ENQUIRY_CATEGORY        DATE_RECORDED           DIVISION  \\\n",
       "0      Pothole   Public Enquiry  08/07/2024 14:52:00  NORTHERN DIVISION   \n",
       "1      Pothole   Public Enquiry  21/06/2024 12:02:00  NORTHERN DIVISION   \n",
       "\n",
       "        CLIENT_OFFICE_NAME        EASTING       NORTHING  \\\n",
       "0  ANTRIM and NEWTOWNABBEY  299693.580378  393419.216217   \n",
       "1  ANTRIM and NEWTOWNABBEY  299593.368350  391364.492782   \n",
       "\n",
       "             APPROVAL_STATUS_NAME SECTION_NAME  \n",
       "0  Standard - Completed Enquiries    DOONE RD1  \n",
       "1  Standard - Completed Enquiries  BRECART RD1  "
      ]
     },
     "execution_count": 39,
     "metadata": {},
     "output_type": "execute_result"
    }
   ],
   "source": [
    "pothole_enquiries_2024_5 = pd.read_csv('Pothole_Enquiries_2024.csv')\n",
    "pothole_enquiries_2024_5.head(2)"
   ]
  },
  {
   "cell_type": "code",
   "execution_count": 10,
   "metadata": {},
   "outputs": [
    {
     "data": {
      "text/plain": [
       "(23016, 9)"
      ]
     },
     "execution_count": 10,
     "metadata": {},
     "output_type": "execute_result"
    }
   ],
   "source": [
    "pothole_enquiries_2024_5.shape"
   ]
  },
  {
   "cell_type": "code",
   "execution_count": 42,
   "metadata": {},
   "outputs": [
    {
     "data": {
      "text/html": [
       "<div>\n",
       "<style scoped>\n",
       "    .dataframe tbody tr th:only-of-type {\n",
       "        vertical-align: middle;\n",
       "    }\n",
       "\n",
       "    .dataframe tbody tr th {\n",
       "        vertical-align: top;\n",
       "    }\n",
       "\n",
       "    .dataframe thead th {\n",
       "        text-align: right;\n",
       "    }\n",
       "</style>\n",
       "<table border=\"1\" class=\"dataframe\">\n",
       "  <thead>\n",
       "    <tr style=\"text-align: right;\">\n",
       "      <th></th>\n",
       "      <th>EASTING</th>\n",
       "      <th>NORTHING</th>\n",
       "      <th>lon</th>\n",
       "      <th>lat</th>\n",
       "    </tr>\n",
       "  </thead>\n",
       "  <tbody>\n",
       "    <tr>\n",
       "      <th>count</th>\n",
       "      <td>23016.000000</td>\n",
       "      <td>23016.000000</td>\n",
       "      <td>23016.000000</td>\n",
       "      <td>23016.000000</td>\n",
       "    </tr>\n",
       "    <tr>\n",
       "      <th>mean</th>\n",
       "      <td>308098.700910</td>\n",
       "      <td>370305.774791</td>\n",
       "      <td>-6.328752</td>\n",
       "      <td>54.568085</td>\n",
       "    </tr>\n",
       "    <tr>\n",
       "      <th>std</th>\n",
       "      <td>37847.114304</td>\n",
       "      <td>31354.166032</td>\n",
       "      <td>0.580453</td>\n",
       "      <td>0.282617</td>\n",
       "    </tr>\n",
       "    <tr>\n",
       "      <th>min</th>\n",
       "      <td>0.000000</td>\n",
       "      <td>-2.423449</td>\n",
       "      <td>-10.863443</td>\n",
       "      <td>51.218545</td>\n",
       "    </tr>\n",
       "    <tr>\n",
       "      <th>25%</th>\n",
       "      <td>288641.278772</td>\n",
       "      <td>354732.007812</td>\n",
       "      <td>-6.634722</td>\n",
       "      <td>54.429816</td>\n",
       "    </tr>\n",
       "    <tr>\n",
       "      <th>50%</th>\n",
       "      <td>313147.511981</td>\n",
       "      <td>369905.718750</td>\n",
       "      <td>-6.253541</td>\n",
       "      <td>54.558453</td>\n",
       "    </tr>\n",
       "    <tr>\n",
       "      <th>75%</th>\n",
       "      <td>334557.281250</td>\n",
       "      <td>384464.539212</td>\n",
       "      <td>-5.917788</td>\n",
       "      <td>54.693930</td>\n",
       "    </tr>\n",
       "    <tr>\n",
       "      <th>max</th>\n",
       "      <td>366131.062500</td>\n",
       "      <td>444319.234824</td>\n",
       "      <td>-5.437110</td>\n",
       "      <td>55.236448</td>\n",
       "    </tr>\n",
       "  </tbody>\n",
       "</table>\n",
       "</div>"
      ],
      "text/plain": [
       "             EASTING       NORTHING           lon           lat\n",
       "count   23016.000000   23016.000000  23016.000000  23016.000000\n",
       "mean   308098.700910  370305.774791     -6.328752     54.568085\n",
       "std     37847.114304   31354.166032      0.580453      0.282617\n",
       "min         0.000000      -2.423449    -10.863443     51.218545\n",
       "25%    288641.278772  354732.007812     -6.634722     54.429816\n",
       "50%    313147.511981  369905.718750     -6.253541     54.558453\n",
       "75%    334557.281250  384464.539212     -5.917788     54.693930\n",
       "max    366131.062500  444319.234824     -5.437110     55.236448"
      ]
     },
     "execution_count": 42,
     "metadata": {},
     "output_type": "execute_result"
    }
   ],
   "source": [
    "pothole_enquiries_2024_5.describe()"
   ]
  },
  {
   "cell_type": "code",
   "execution_count": 44,
   "metadata": {},
   "outputs": [
    {
     "name": "stdout",
     "output_type": "stream",
     "text": [
      "<class 'pandas.core.frame.DataFrame'>\n",
      "RangeIndex: 23016 entries, 0 to 23015\n",
      "Data columns (total 11 columns):\n",
      " #   Column                Non-Null Count  Dtype  \n",
      "---  ------                --------------  -----  \n",
      " 0   ENQUIRY_TYPE          23016 non-null  object \n",
      " 1   ENQUIRY_CATEGORY      23016 non-null  object \n",
      " 2   DATE_RECORDED         23016 non-null  object \n",
      " 3   DIVISION              23016 non-null  object \n",
      " 4   CLIENT_OFFICE_NAME    23016 non-null  object \n",
      " 5   EASTING               23016 non-null  float64\n",
      " 6   NORTHING              23016 non-null  float64\n",
      " 7   APPROVAL_STATUS_NAME  23016 non-null  object \n",
      " 8   SECTION_NAME          23016 non-null  object \n",
      " 9   lon                   23016 non-null  float64\n",
      " 10  lat                   23016 non-null  float64\n",
      "dtypes: float64(4), object(7)\n",
      "memory usage: 1.9+ MB\n"
     ]
    }
   ],
   "source": [
    "pothole_enquiries_2024_5.info()"
   ]
  },
  {
   "cell_type": "code",
   "execution_count": 46,
   "metadata": {},
   "outputs": [
    {
     "data": {
      "text/plain": [
       "ENQUIRY_TYPE\n",
       "Pothole    23016\n",
       "Name: count, dtype: int64"
      ]
     },
     "execution_count": 46,
     "metadata": {},
     "output_type": "execute_result"
    }
   ],
   "source": [
    "pothole_enquiries_2024_5.ENQUIRY_TYPE.value_counts()"
   ]
  },
  {
   "cell_type": "code",
   "execution_count": 47,
   "metadata": {},
   "outputs": [
    {
     "data": {
      "text/plain": [
       "ENQUIRY_CATEGORY\n",
       "Public Enquiry                21116\n",
       "Call Centre Public Enquiry     1890\n",
       "Complaint                        10\n",
       "Name: count, dtype: int64"
      ]
     },
     "execution_count": 47,
     "metadata": {},
     "output_type": "execute_result"
    }
   ],
   "source": [
    "pothole_enquiries_2024_5.ENQUIRY_CATEGORY.value_counts()"
   ]
  },
  {
   "cell_type": "code",
   "execution_count": 48,
   "metadata": {},
   "outputs": [
    {
     "data": {
      "text/plain": [
       "DIVISION\n",
       "SOUTHERN DIVISION    9361\n",
       "WESTERN DIVISION     5054\n",
       "NORTHERN DIVISION    5038\n",
       "EASTERN DIVISION     3552\n",
       "ALL CLIENTS            11\n",
       "Name: count, dtype: int64"
      ]
     },
     "execution_count": 48,
     "metadata": {},
     "output_type": "execute_result"
    }
   ],
   "source": [
    "pothole_enquiries_2024_5.DIVISION.value_counts()"
   ]
  },
  {
   "cell_type": "code",
   "execution_count": 49,
   "metadata": {},
   "outputs": [
    {
     "data": {
      "text/plain": [
       "CLIENT_OFFICE_NAME\n",
       "ARDS and NORTH DOWN                         3431\n",
       "CASTLEREAGH and LISBURN                     2316\n",
       "ARMAGH CITY BANBRIDGE and CRAIGAVON EAST    2311\n",
       "ANTRIM and NEWTOWNABBEY                     1981\n",
       "MID and EAST ANTRIM                         1636\n",
       "ARMAGH CITY BANBRIDGE and CRAIGAVON WEST    1528\n",
       "FERMANAGH and OMAGH EAST                    1357\n",
       "NEWRY MOURNE and DOWN WEST                  1356\n",
       "MID ULSTER SOUTH                            1160\n",
       "MID ULSTER NORTH                             961\n",
       "CAUSEWAY COAST and GLENS EAST                937\n",
       "LONDONDERRY and STRABANE                     902\n",
       "NEWRY MOURNE and DOWN EAST                   725\n",
       "BELFAST SOUTH                                679\n",
       "FERMANAGH and OMAGH WEST                     659\n",
       "BELFAST NORTH                                556\n",
       "CAUSEWAY COAST and GLENS WEST                465\n",
       "?                                             56\n",
       "Name: count, dtype: int64"
      ]
     },
     "execution_count": 49,
     "metadata": {},
     "output_type": "execute_result"
    }
   ],
   "source": [
    "pothole_enquiries_2024_5.CLIENT_OFFICE_NAME.value_counts()"
   ]
  },
  {
   "cell_type": "code",
   "execution_count": 50,
   "metadata": {},
   "outputs": [
    {
     "data": {
      "text/plain": [
       "APPROVAL_STATUS_NAME\n",
       "Standard - Completed Enquiries    19975\n",
       "Standard - New                     2599\n",
       "Standard - In Progress              441\n",
       "High Priority - Completed             1\n",
       "Name: count, dtype: int64"
      ]
     },
     "execution_count": 50,
     "metadata": {},
     "output_type": "execute_result"
    }
   ],
   "source": [
    "pothole_enquiries_2024_5.APPROVAL_STATUS_NAME.value_counts()"
   ]
  },
  {
   "cell_type": "code",
   "execution_count": 51,
   "metadata": {},
   "outputs": [
    {
     "data": {
      "text/plain": [
       "SECTION_NAME\n",
       "CROSSKEYS RD1       124\n",
       "MOUNTSTEWART RD1    107\n",
       "BALLYNAHINCH RD3     92\n",
       "BALLYBLACK RD E1     84\n",
       "SAINTFIELD RD3       79\n",
       "                   ... \n",
       "LISMAIN ST1           1\n",
       "GLENSHANE GDS1        1\n",
       "STEWARTSTOWN AV1      1\n",
       "ORBY DR1              1\n",
       "DUNRAVEN PK1          1\n",
       "Name: count, Length: 6170, dtype: int64"
      ]
     },
     "execution_count": 51,
     "metadata": {},
     "output_type": "execute_result"
    }
   ],
   "source": [
    "pothole_enquiries_2024_5.SECTION_NAME.value_counts()"
   ]
  },
  {
   "cell_type": "markdown",
   "metadata": {},
   "source": [
    "### Convert to Lat/Lng"
   ]
  },
  {
   "cell_type": "code",
   "execution_count": 35,
   "metadata": {},
   "outputs": [
    {
     "data": {
      "text/plain": [
       "(-6.4513996369441795, 54.778771693036866)"
      ]
     },
     "execution_count": 35,
     "metadata": {},
     "output_type": "execute_result"
    }
   ],
   "source": [
    "transformer = Transformer.from_crs(\"epsg:29903\", \"epsg:4326\", always_xy=True)\n",
    "\n",
    "easting, northing = 299693.580378, 393419.216217\n",
    "lon, lat = transformer.transform(easting, northing)\n",
    "lon, lat"
   ]
  },
  {
   "cell_type": "code",
   "execution_count": 40,
   "metadata": {},
   "outputs": [
    {
     "data": {
      "text/html": [
       "<div>\n",
       "<style scoped>\n",
       "    .dataframe tbody tr th:only-of-type {\n",
       "        vertical-align: middle;\n",
       "    }\n",
       "\n",
       "    .dataframe tbody tr th {\n",
       "        vertical-align: top;\n",
       "    }\n",
       "\n",
       "    .dataframe thead th {\n",
       "        text-align: right;\n",
       "    }\n",
       "</style>\n",
       "<table border=\"1\" class=\"dataframe\">\n",
       "  <thead>\n",
       "    <tr style=\"text-align: right;\">\n",
       "      <th></th>\n",
       "      <th>ENQUIRY_TYPE</th>\n",
       "      <th>ENQUIRY_CATEGORY</th>\n",
       "      <th>DATE_RECORDED</th>\n",
       "      <th>DIVISION</th>\n",
       "      <th>CLIENT_OFFICE_NAME</th>\n",
       "      <th>EASTING</th>\n",
       "      <th>NORTHING</th>\n",
       "      <th>APPROVAL_STATUS_NAME</th>\n",
       "      <th>SECTION_NAME</th>\n",
       "      <th>lon</th>\n",
       "      <th>lat</th>\n",
       "    </tr>\n",
       "  </thead>\n",
       "  <tbody>\n",
       "    <tr>\n",
       "      <th>0</th>\n",
       "      <td>Pothole</td>\n",
       "      <td>Public Enquiry</td>\n",
       "      <td>08/07/2024 14:52:00</td>\n",
       "      <td>NORTHERN DIVISION</td>\n",
       "      <td>ANTRIM and NEWTOWNABBEY</td>\n",
       "      <td>299693.580378</td>\n",
       "      <td>393419.216217</td>\n",
       "      <td>Standard - Completed Enquiries</td>\n",
       "      <td>DOONE RD1</td>\n",
       "      <td>-6.451400</td>\n",
       "      <td>54.778772</td>\n",
       "    </tr>\n",
       "    <tr>\n",
       "      <th>1</th>\n",
       "      <td>Pothole</td>\n",
       "      <td>Public Enquiry</td>\n",
       "      <td>21/06/2024 12:02:00</td>\n",
       "      <td>NORTHERN DIVISION</td>\n",
       "      <td>ANTRIM and NEWTOWNABBEY</td>\n",
       "      <td>299593.368350</td>\n",
       "      <td>391364.492782</td>\n",
       "      <td>Standard - Completed Enquiries</td>\n",
       "      <td>BRECART RD1</td>\n",
       "      <td>-6.453660</td>\n",
       "      <td>54.760341</td>\n",
       "    </tr>\n",
       "    <tr>\n",
       "      <th>2</th>\n",
       "      <td>Pothole</td>\n",
       "      <td>Public Enquiry</td>\n",
       "      <td>14/01/2025 14:40:00</td>\n",
       "      <td>NORTHERN DIVISION</td>\n",
       "      <td>ANTRIM and NEWTOWNABBEY</td>\n",
       "      <td>304403.593750</td>\n",
       "      <td>392726.906250</td>\n",
       "      <td>Standard - Completed Enquiries</td>\n",
       "      <td>CLONKEEN RD1</td>\n",
       "      <td>-6.378481</td>\n",
       "      <td>54.771599</td>\n",
       "    </tr>\n",
       "    <tr>\n",
       "      <th>3</th>\n",
       "      <td>Pothole</td>\n",
       "      <td>Public Enquiry</td>\n",
       "      <td>04/02/2025 23:16:00</td>\n",
       "      <td>NORTHERN DIVISION</td>\n",
       "      <td>ANTRIM and NEWTOWNABBEY</td>\n",
       "      <td>304324.302980</td>\n",
       "      <td>392798.170892</td>\n",
       "      <td>Standard - Completed Enquiries</td>\n",
       "      <td>CLONKEEN RD1</td>\n",
       "      <td>-6.379687</td>\n",
       "      <td>54.772255</td>\n",
       "    </tr>\n",
       "    <tr>\n",
       "      <th>4</th>\n",
       "      <td>Pothole</td>\n",
       "      <td>Public Enquiry</td>\n",
       "      <td>23/02/2025 12:43:00</td>\n",
       "      <td>NORTHERN DIVISION</td>\n",
       "      <td>ANTRIM and NEWTOWNABBEY</td>\n",
       "      <td>304135.583210</td>\n",
       "      <td>393004.102097</td>\n",
       "      <td>Standard - Completed Enquiries</td>\n",
       "      <td>CLONKEEN RD1</td>\n",
       "      <td>-6.382545</td>\n",
       "      <td>54.774144</td>\n",
       "    </tr>\n",
       "    <tr>\n",
       "      <th>...</th>\n",
       "      <td>...</td>\n",
       "      <td>...</td>\n",
       "      <td>...</td>\n",
       "      <td>...</td>\n",
       "      <td>...</td>\n",
       "      <td>...</td>\n",
       "      <td>...</td>\n",
       "      <td>...</td>\n",
       "      <td>...</td>\n",
       "      <td>...</td>\n",
       "      <td>...</td>\n",
       "    </tr>\n",
       "    <tr>\n",
       "      <th>23011</th>\n",
       "      <td>Pothole</td>\n",
       "      <td>Call Centre Public Enquiry</td>\n",
       "      <td>22/04/2024 14:19:00</td>\n",
       "      <td>WESTERN DIVISION</td>\n",
       "      <td>MID ULSTER NORTH</td>\n",
       "      <td>279815.754940</td>\n",
       "      <td>395083.385076</td>\n",
       "      <td>Standard - Completed Enquiries</td>\n",
       "      <td>GORTNASKEY RD1</td>\n",
       "      <td>-6.759775</td>\n",
       "      <td>54.797267</td>\n",
       "    </tr>\n",
       "    <tr>\n",
       "      <th>23012</th>\n",
       "      <td>Pothole</td>\n",
       "      <td>Public Enquiry</td>\n",
       "      <td>24/04/2024 09:37:00</td>\n",
       "      <td>WESTERN DIVISION</td>\n",
       "      <td>MID ULSTER NORTH</td>\n",
       "      <td>279732.549279</td>\n",
       "      <td>394832.377644</td>\n",
       "      <td>Standard - Completed Enquiries</td>\n",
       "      <td>GORTNASKEY RD1</td>\n",
       "      <td>-6.761138</td>\n",
       "      <td>54.795026</td>\n",
       "    </tr>\n",
       "    <tr>\n",
       "      <th>23013</th>\n",
       "      <td>Pothole</td>\n",
       "      <td>Public Enquiry</td>\n",
       "      <td>24/04/2024 09:39:00</td>\n",
       "      <td>WESTERN DIVISION</td>\n",
       "      <td>MID ULSTER NORTH</td>\n",
       "      <td>279936.947820</td>\n",
       "      <td>395096.535980</td>\n",
       "      <td>Standard - Completed Enquiries</td>\n",
       "      <td>GORTNASKEY RD1</td>\n",
       "      <td>-6.757888</td>\n",
       "      <td>54.797366</td>\n",
       "    </tr>\n",
       "    <tr>\n",
       "      <th>23014</th>\n",
       "      <td>Pothole</td>\n",
       "      <td>Call Centre Public Enquiry</td>\n",
       "      <td>06/02/2025 13:12:00</td>\n",
       "      <td>WESTERN DIVISION</td>\n",
       "      <td>MID ULSTER NORTH</td>\n",
       "      <td>281550.780135</td>\n",
       "      <td>394999.921817</td>\n",
       "      <td>Standard - Completed Enquiries</td>\n",
       "      <td>DUNTIBRYAN RD1</td>\n",
       "      <td>-6.732830</td>\n",
       "      <td>54.796239</td>\n",
       "    </tr>\n",
       "    <tr>\n",
       "      <th>23015</th>\n",
       "      <td>Pothole</td>\n",
       "      <td>Public Enquiry</td>\n",
       "      <td>02/04/2024 14:29:00</td>\n",
       "      <td>WESTERN DIVISION</td>\n",
       "      <td>MID ULSTER NORTH</td>\n",
       "      <td>279127.200022</td>\n",
       "      <td>400329.199966</td>\n",
       "      <td>Standard - Completed Enquiries</td>\n",
       "      <td>KIRLEY RD1</td>\n",
       "      <td>-6.769046</td>\n",
       "      <td>54.844487</td>\n",
       "    </tr>\n",
       "  </tbody>\n",
       "</table>\n",
       "<p>23016 rows × 11 columns</p>\n",
       "</div>"
      ],
      "text/plain": [
       "      ENQUIRY_TYPE            ENQUIRY_CATEGORY        DATE_RECORDED  \\\n",
       "0          Pothole              Public Enquiry  08/07/2024 14:52:00   \n",
       "1          Pothole              Public Enquiry  21/06/2024 12:02:00   \n",
       "2          Pothole              Public Enquiry  14/01/2025 14:40:00   \n",
       "3          Pothole              Public Enquiry  04/02/2025 23:16:00   \n",
       "4          Pothole              Public Enquiry  23/02/2025 12:43:00   \n",
       "...            ...                         ...                  ...   \n",
       "23011      Pothole  Call Centre Public Enquiry  22/04/2024 14:19:00   \n",
       "23012      Pothole              Public Enquiry  24/04/2024 09:37:00   \n",
       "23013      Pothole              Public Enquiry  24/04/2024 09:39:00   \n",
       "23014      Pothole  Call Centre Public Enquiry  06/02/2025 13:12:00   \n",
       "23015      Pothole              Public Enquiry  02/04/2024 14:29:00   \n",
       "\n",
       "                DIVISION       CLIENT_OFFICE_NAME        EASTING  \\\n",
       "0      NORTHERN DIVISION  ANTRIM and NEWTOWNABBEY  299693.580378   \n",
       "1      NORTHERN DIVISION  ANTRIM and NEWTOWNABBEY  299593.368350   \n",
       "2      NORTHERN DIVISION  ANTRIM and NEWTOWNABBEY  304403.593750   \n",
       "3      NORTHERN DIVISION  ANTRIM and NEWTOWNABBEY  304324.302980   \n",
       "4      NORTHERN DIVISION  ANTRIM and NEWTOWNABBEY  304135.583210   \n",
       "...                  ...                      ...            ...   \n",
       "23011   WESTERN DIVISION         MID ULSTER NORTH  279815.754940   \n",
       "23012   WESTERN DIVISION         MID ULSTER NORTH  279732.549279   \n",
       "23013   WESTERN DIVISION         MID ULSTER NORTH  279936.947820   \n",
       "23014   WESTERN DIVISION         MID ULSTER NORTH  281550.780135   \n",
       "23015   WESTERN DIVISION         MID ULSTER NORTH  279127.200022   \n",
       "\n",
       "            NORTHING            APPROVAL_STATUS_NAME    SECTION_NAME  \\\n",
       "0      393419.216217  Standard - Completed Enquiries       DOONE RD1   \n",
       "1      391364.492782  Standard - Completed Enquiries     BRECART RD1   \n",
       "2      392726.906250  Standard - Completed Enquiries    CLONKEEN RD1   \n",
       "3      392798.170892  Standard - Completed Enquiries    CLONKEEN RD1   \n",
       "4      393004.102097  Standard - Completed Enquiries    CLONKEEN RD1   \n",
       "...              ...                             ...             ...   \n",
       "23011  395083.385076  Standard - Completed Enquiries  GORTNASKEY RD1   \n",
       "23012  394832.377644  Standard - Completed Enquiries  GORTNASKEY RD1   \n",
       "23013  395096.535980  Standard - Completed Enquiries  GORTNASKEY RD1   \n",
       "23014  394999.921817  Standard - Completed Enquiries  DUNTIBRYAN RD1   \n",
       "23015  400329.199966  Standard - Completed Enquiries      KIRLEY RD1   \n",
       "\n",
       "            lon        lat  \n",
       "0     -6.451400  54.778772  \n",
       "1     -6.453660  54.760341  \n",
       "2     -6.378481  54.771599  \n",
       "3     -6.379687  54.772255  \n",
       "4     -6.382545  54.774144  \n",
       "...         ...        ...  \n",
       "23011 -6.759775  54.797267  \n",
       "23012 -6.761138  54.795026  \n",
       "23013 -6.757888  54.797366  \n",
       "23014 -6.732830  54.796239  \n",
       "23015 -6.769046  54.844487  \n",
       "\n",
       "[23016 rows x 11 columns]"
      ]
     },
     "execution_count": 40,
     "metadata": {},
     "output_type": "execute_result"
    }
   ],
   "source": [
    "\n",
    "def add_lat_lon(df):\n",
    "    # Set up transformer from Irish Grid to WGS84\n",
    "    transformer = Transformer.from_crs(\"epsg:29903\", \"epsg:4326\", always_xy=True)\n",
    "    # Apply transformation row-wise\n",
    "    df[\"lon\"], df[\"lat\"] = zip(*df.apply(\n",
    "        lambda row: transformer.transform(row[\"EASTING\"], row[\"NORTHING\"]), axis=1\n",
    "    ))\n",
    "\n",
    "    return df\n",
    "\n",
    "add_lat_lon(pothole_enquiries_2024_5)"
   ]
  },
  {
   "cell_type": "code",
   "execution_count": 7,
   "metadata": {},
   "outputs": [
    {
     "data": {
      "text/plain": [
       "0           (52.59499655299926, -2.09858261954592)\n",
       "1         (52.594066473143414, -2.128912997829107)\n",
       "2          (52.63732934727305, -2.108908181364132)\n",
       "3            (52.636617512426, -2.107853358054016)\n",
       "4         (52.63492371487582, -2.1048063307013196)\n",
       "                           ...                    \n",
       "23011       (52.4163146246091, -2.073714536686857)\n",
       "23012      (52.41556423523908, -2.077403750936372)\n",
       "23013     (52.417404275107316, -2.073522999218813)\n",
       "23014    (52.431911788754896, -2.0749682325653684)\n",
       "23015    (52.410147574428805, -1.9965863924758913)\n",
       "Length: 23016, dtype: object"
      ]
     },
     "execution_count": 7,
     "metadata": {},
     "output_type": "execute_result"
    }
   ],
   "source": [
    "pothole_enquiries_2024_5.apply(lambda row: transformer.transform(row['NORTHING'], row['EASTING']), axis=1)"
   ]
  },
  {
   "cell_type": "markdown",
   "metadata": {},
   "source": [
    "### Clean"
   ]
  },
  {
   "cell_type": "code",
   "execution_count": 54,
   "metadata": {},
   "outputs": [],
   "source": [
    "unneeded_columns = [\"EASTING\", \"NORTHING\", \"ENQUIRY_TYPE\"]\n",
    "pothole_enquiries_2024_5.drop(unneeded_columns, axis=1).to_csv(\"data/pothole_enquiries_2024_5-cleaned.csv\", index=False)"
   ]
  }
 ],
 "metadata": {
  "kernelspec": {
   "display_name": "Python 3",
   "language": "python",
   "name": "python3"
  },
  "language_info": {
   "codemirror_mode": {
    "name": "ipython",
    "version": 3
   },
   "file_extension": ".py",
   "mimetype": "text/x-python",
   "name": "python",
   "nbconvert_exporter": "python",
   "pygments_lexer": "ipython3",
   "version": "3.13.5"
  }
 },
 "nbformat": 4,
 "nbformat_minor": 2
}
